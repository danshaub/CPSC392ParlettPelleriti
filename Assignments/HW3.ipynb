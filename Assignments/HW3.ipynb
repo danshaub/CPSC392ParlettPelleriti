{
 "cells": [
  {
   "cell_type": "code",
   "execution_count": null,
   "metadata": {},
   "outputs": [],
   "source": [
    "# import the necessary packages\n"
   ]
  },
  {
   "cell_type": "markdown",
   "metadata": {},
   "source": [
    "## 1. Building a Logistic Regression Model\n",
    "\n",
    "Using the grad admissions [data](https://raw.githubusercontent.com/cmparlettpelleriti/CPSC392ParlettPelleriti/master/Data/GradAdmissions.csv), build a logistic regression model that predicts `Admission` (whether or not a student was admitted) based on ALL the other variables in the data set (EXCEPT `Serial No`, information on the variables can be found [here](https://www.kaggle.com/mohansacharya/graduate-admissions#Admission_Predict_Ver1.1.csv), note that I've added the `Admissions` column to our dataset.)\n",
    "\n",
    "### 1.1\n",
    "Z-score your continuous variables\n",
    "### 1.2\n",
    "Use Train Test Split to validate your model\n",
    "### 1.3\n",
    "Put your coefficients in a data frame and for EACH predictor variable, interpret the coefficient in terms of Log Odds\n",
    "### 1.4\n",
    "Add a row to your coefficients data frame and add the coefficients in terms of Odds. For EACH predictor variable, interpret the coefficient in terms of Odds\n",
    "### 1.5\n",
    "(MARKDOWN) How well did your model do? Which metrics did you use to support your assessment?"
   ]
  },
  {
   "cell_type": "markdown",
   "metadata": {},
   "source": [
    "    \n",
    "## 2. Exploring Logistic Regression Coefficients\n",
    "\n",
    "### 2.1\n",
    "\n",
    "Using the coefficients from grad admissions model, manually (using code but not any built-in sklearn functions) calculate the predicted *log odds* of admission for the two students with the following (already z-scored) values:\n",
    "\n",
    "(hint: if you're confused about how to do this, click [here](https://github.com/cmparlettpelleriti/CPSC392ParlettPelleriti/blob/master/Extras/Hint_HW3.ipynb) for a hint)\n",
    "\n",
    "|           | GRE Score | TOEFL Score | University Rating | SOP  | LOR  | CGPA | Research |\n",
    "|-----------|-----------|-------------|-------------------|------|------|------|----------|\n",
    "| Student 1 | 0.60      | 0.05        | 0.75              | 0.65 | 1.02 | 0.25 | 1        |\n",
    "| Student 2 | 1.60      | 0.05        | 0.75              | 0.65 | 1.02 | 0.25 | 1        |\n",
    "\n",
    "Note that the only difference between Student 1 and Student 2 is a *1 unit (standard deviation) increase in GRE score*. \n",
    "\n",
    "* 2.1.1 (MARKDOWN) What is the difference (Student 2 - Student 1) in the log odds of the two students? (does that number look familiar?)\n",
    "\n",
    "Now calculate the predicted *odds* of admission for the two students.\n",
    "\n",
    "* 2.1.2 (MARKDOWN) What is the ratio (Student 2/Student 1) in the log odds of the two students? (does that number look familiar?)\n",
    "\n",
    "Now calculate the predicted *probability* of admission for the two students.\n",
    "\n",
    "### 2.2\n",
    "The following students are from the same data set. Similarly to Students 1&2, the *only difference between Student 3&4 is a 1 unit (standard deviation) increase in GRE score*. To reiterate: the difference between Student 1 and Student 2 is *the same* as the difference between Student 3 and Student 4, but Students 1&2 have different values for the other variables than Students 3&4 do.\n",
    "\n",
    "|           | GRE Score | TOEFL Score | University Rating | SOP  | LOR  | CGPA | Research |\n",
    "|-----------|-----------|-------------|-------------------|------|------|------|----------|\n",
    "| Student 3 | -1.25     | 0.24        | 0                 | 0.56 | -1   | -0.1 | 0        |\n",
    "| Student 4 | -0.25     | 0.24        | 0                 | 0.56 | -1   | -0.1 | 0        |\n",
    "\n",
    "Calculate the *log odds* of admission for the two students.\n",
    "\n",
    "* 2.2.1 (MARKDOWN) What is the difference (Student 4 - Student 3) in the log odds of the two students? (does that number look familiar?)\n",
    "\n",
    "Now calculate the predicted *odds* of admission for the two students.\n",
    "\n",
    "* 2.2.2 (MARKDOWN) What is the ratio (Student 4/Student 3) in the log odds of the two students? (does that number look familiar?)\n",
    "\n",
    "Now calculate the predicted *probability* of admission for the two students.\n",
    "\n",
    "### 2.3\n",
    "\n",
    "* 2.3.1 (MARKDOWN) Is the difference in log odds the same for the two pairs (1&2 and 3&4) of students?\n",
    "* 2.3.2 (MARKDOWN) Is the ratio of  odds the same for the two pairs (1&2 and 3&4) of students?\n",
    "* 2.3.3 (MARKDOWN) Is the difference in probability OR the ratio of probabilities the same for the two pairs (1/2 and 3/4) of students? \n",
    "* 2.3.4 (MARKDOWN) Using the information you learned in lectures and classwork, explain *why* the differences/ratios may be constant for some of these measures(log odds, odds, probabilities...) but not others."
   ]
  },
  {
   "cell_type": "code",
   "execution_count": null,
   "metadata": {},
   "outputs": [],
   "source": [
    "# 1.1"
   ]
  },
  {
   "cell_type": "code",
   "execution_count": null,
   "metadata": {},
   "outputs": [],
   "source": [
    "# 1.2"
   ]
  },
  {
   "cell_type": "code",
   "execution_count": null,
   "metadata": {},
   "outputs": [],
   "source": [
    "# 1.3"
   ]
  },
  {
   "cell_type": "code",
   "execution_count": null,
   "metadata": {},
   "outputs": [],
   "source": [
    "# 1.4"
   ]
  },
  {
   "cell_type": "code",
   "execution_count": null,
   "metadata": {},
   "outputs": [],
   "source": [
    "# 1.5"
   ]
  },
  {
   "cell_type": "code",
   "execution_count": null,
   "metadata": {},
   "outputs": [],
   "source": [
    "# 2.1"
   ]
  },
  {
   "cell_type": "code",
   "execution_count": null,
   "metadata": {},
   "outputs": [],
   "source": [
    "# 2.2"
   ]
  },
  {
   "cell_type": "code",
   "execution_count": 1,
   "metadata": {},
   "outputs": [],
   "source": [
    "# 2.3"
   ]
  }
 ],
 "metadata": {
  "kernelspec": {
   "display_name": "Python 3",
   "language": "python",
   "name": "python3"
  },
  "language_info": {
   "codemirror_mode": {
    "name": "ipython",
    "version": 3
   },
   "file_extension": ".py",
   "mimetype": "text/x-python",
   "name": "python",
   "nbconvert_exporter": "python",
   "pygments_lexer": "ipython3",
   "version": "3.8.1"
  }
 },
 "nbformat": 4,
 "nbformat_minor": 4
}
