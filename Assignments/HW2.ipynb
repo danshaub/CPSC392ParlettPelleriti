{
 "cells": [
  {
   "cell_type": "code",
   "execution_count": null,
   "metadata": {},
   "outputs": [],
   "source": [
    "# import the necessary packages\n"
   ]
  },
  {
   "cell_type": "markdown",
   "metadata": {},
   "source": [
    "1. (5 pts) Using the heavy lifting data set from `\"https://raw.githubusercontent.com/rfordatascience/tidytuesday/master/data/2019/2019-10-08/ipf_lifts.csv\"`, build an sklearn regression model that predicts the body weight (in kg) of a compteitor. Don't standardize your variables.\n",
    "    * interpret the coefficients from your model\n",
    "    * describe how accurate your model is, and which metrics you used to decide that.\n",
    "    * plot the residuals vs body weight. Is the error homoskedastic? If it wasn't what issues could that cause?\n",
    "\n",
    "</br>\n",
    "</br>\n",
    "\n",
    "2. (2 pts) Build the same model as above, but z-score (`StandardScaler()`) your variables.\n",
    "    * how does the interpretation of the coefficients change?\n",
    "\n",
    "\n",
    "</br>\n",
    "</br>\n",
    "\n",
    "\n",
    "3. (3 pts) Choose one of the continuous predictor variables you chose. Plot body weight by that variable using plotnine/ggplot. Is the relationship roughly linear? What do you think the consequences could be if it wasn't/isn't?"
   ]
  },
  {
   "cell_type": "code",
   "execution_count": null,
   "metadata": {},
   "outputs": [],
   "source": [
    "#1"
   ]
  },
  {
   "cell_type": "code",
   "execution_count": null,
   "metadata": {},
   "outputs": [],
   "source": [
    "#2"
   ]
  },
  {
   "cell_type": "code",
   "execution_count": null,
   "metadata": {},
   "outputs": [],
   "source": [
    "#3"
   ]
  },
  {
   "cell_type": "markdown",
   "metadata": {},
   "source": [
    "answer"
   ]
  }
 ],
 "metadata": {
  "kernelspec": {
   "display_name": "Python 3",
   "language": "python",
   "name": "python3"
  },
  "language_info": {
   "codemirror_mode": {
    "name": "ipython",
    "version": 3
   },
   "file_extension": ".py",
   "mimetype": "text/x-python",
   "name": "python",
   "nbconvert_exporter": "python",
   "pygments_lexer": "ipython3",
   "version": "3.8.5"
  }
 },
 "nbformat": 4,
 "nbformat_minor": 4
}
