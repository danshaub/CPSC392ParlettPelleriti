{
 "cells": [
  {
   "cell_type": "markdown",
   "metadata": {},
   "source": [
    "## Python\n",
    "In python,\n",
    "\n",
    "* [Ridge](https://scikit-learn.org/stable/modules/generated/sklearn.linear_model.Ridge.html#sklearn.linear_model.Ridge)'s objective function is:\n",
    "\n",
    "$$ \\lVert X \\beta-y\\rVert^2_2 + \\alpha_{ridge}\\lVert \\beta \\rVert^2_2 $$\n",
    "\n",
    "* [LASSO](https://scikit-learn.org/stable/modules/generated/sklearn.linear_model.Lasso.html#sklearn.linear_model.Lasso)'s objective function is:\n",
    "\n",
    "$$ \\frac{1}{2N}\\lVert X \\beta-y\\rVert^2_2 + \\alpha_{lasso}\\lVert \\beta \\rVert_1$$\n",
    "\n",
    "\n",
    "## R (glmnet)\n",
    "\n",
    "In R/`glmnet()`, the general objective function is:\n",
    "\n",
    "$$ \\frac{1}{N}\\lVert X \\beta-y\\rVert^2_2 + \\lambda(\\frac{1}{2}(1 - \\alpha)\\lVert \\beta \\rVert_2^2 + \\alpha\\lVert \\beta \\rVert_1) $$\n",
    "\n",
    "For LASSO, we set $\\alpha = 1$ and for Ridge we set $\\alpha = 0$ leaving us with:\n",
    "\n",
    "* Ridge's objective function is:\n",
    " $$ \\frac{1}{N}\\lVert X \\beta-y\\rVert^2_2 + \\frac{\\lambda}{2}\\lVert \\beta \\rVert_2^2$$\n",
    " \n",
    "* LASSO's objective function is:\n",
    " $$ \\frac{1}{N}\\lVert X \\beta-y\\rVert^2_2 + \\lambda\\lVert \\beta \\rVert_1 $$\n",
    " \n",
    " \n",
    " ## Comparison\n",
    " \n",
    " Therefore:\n",
    "\n",
    "* for Ridge$^1$:\n",
    "$$\\lambda_{glmnet} = \\frac{2}{N}\\alpha_{ridge} $$\n",
    "\n",
    "* for LASSO\n",
    "$$\\lambda_{glmnet} = 2\\alpha_{lasso} $$\n",
    "\n",
    "\n",
    "$^1$ Confirmed by [this](https://stats.stackexchange.com/questions/160096/what-are-the-differences-between-ridge-regression-using-rs-glmnet-and-pythons)."
   ]
  }
 ],
 "metadata": {
  "hide_input": false,
  "kernelspec": {
   "display_name": "Python 3",
   "language": "python",
   "name": "python3"
  },
  "language_info": {
   "codemirror_mode": {
    "name": "ipython",
    "version": 3
   },
   "file_extension": ".py",
   "mimetype": "text/x-python",
   "name": "python",
   "nbconvert_exporter": "python",
   "pygments_lexer": "ipython3",
   "version": "3.8.1"
  },
  "toc": {
   "base_numbering": 1,
   "nav_menu": {},
   "number_sections": true,
   "sideBar": true,
   "skip_h1_title": false,
   "title_cell": "Table of Contents",
   "title_sidebar": "Contents",
   "toc_cell": false,
   "toc_position": {},
   "toc_section_display": true,
   "toc_window_display": false
  }
 },
 "nbformat": 4,
 "nbformat_minor": 4
}
