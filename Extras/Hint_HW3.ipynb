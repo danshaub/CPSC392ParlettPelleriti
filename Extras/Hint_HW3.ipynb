{
 "cells": [
  {
   "cell_type": "markdown",
   "metadata": {},
   "source": [
    "## Hint 1\n",
    "\n",
    "Remember that once you have your coefficients from a regression model, you can calculate the predicted outcome using the following formula:\n",
    "\n",
    "$$ y = (p_1*c_1) + (p_2*c_2) + (p_3*c_3)...(p_n*c_n)$$\n",
    "\n",
    "Where the $p_i$s are the values for the predictor variable, and the $c_i$s are their corresponding coefficients."
   ]
  },
  {
   "cell_type": "markdown",
   "metadata": {},
   "source": [
    "For example, if your coefficients for a model predicting the log odds of subscribing to the New York Times are:\n",
    "\n",
    "|               | Coef |\n",
    "|---------------|------|\n",
    "| age           | 0.025   |\n",
    "| income (in k) | 0.0046   |\n",
    "| SAT Score     | -0.0001 |\n",
    "\n",
    "Then the log odds for the following person\n",
    "\n",
    "|          | age | income | SAT Score |\n",
    "|----------|-----|--------|-----------|\n",
    "| Person 1 | 37  | 77     | 1680      |\n",
    "\n",
    "Would be\n",
    "\n",
    "$$ \\text{predicted log odds} = \\underbrace{37*0.025}_\\text{age} + \\underbrace{77*0.0046}_\\text{income} + \\underbrace{1680*-0.0001}_\\text{SAT} = 1.1112 $$"
   ]
  },
  {
   "cell_type": "markdown",
   "metadata": {},
   "source": [
    "## Hint 2 \n",
    "* lo = log odds\n",
    "\n",
    "* odds = odds\n",
    "\n",
    "* p = probability\n",
    "\n",
    "To convert from log odds to odds, you exponentiate:\n",
    "\n",
    "$$ odds = e^{lo} $$\n",
    "\n",
    "To convert from log odds to probabilities you:\n",
    "\n",
    "$$ p = \\frac{e^{lo}}{1 + e^{lo}}$$"
   ]
  }
 ],
 "metadata": {
  "kernelspec": {
   "display_name": "Python 3",
   "language": "python",
   "name": "python3"
  },
  "language_info": {
   "codemirror_mode": {
    "name": "ipython",
    "version": 3
   },
   "file_extension": ".py",
   "mimetype": "text/x-python",
   "name": "python",
   "nbconvert_exporter": "python",
   "pygments_lexer": "ipython3",
   "version": "3.8.1"
  }
 },
 "nbformat": 4,
 "nbformat_minor": 4
}
