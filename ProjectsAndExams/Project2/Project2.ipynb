{
 "cells": [
  {
   "cell_type": "markdown",
   "metadata": {},
   "source": [
    "# Project 2\n",
    "\n",
    "**this is NOT a group project**\n",
    "\n",
    "So far in this course we have covered both *supervised* and *unsupervised* algorithms. Supervised algorithms *predict* a known outcome (either a continuous value like linear regression, or a categorical outcome like logistic regression, naive bayes, k-nearest neighbors, or decision trees), while unsupervised algorithms attempt to find structure in the data without a known outcome (like k-means, Gaussian Mixture Models (EM), or hierarchical agglomeretive clustering).\n",
    "\n",
    "This project will use both, as well as compare the two. **You should write this project as if you're a data scientist who is presenting these results to people who are NOT data scientists**. You must put the answers the the questions (a-g/h) in a markdown cell and clearly indicate where you are answering each question.\n",
    "\n",
    "\n",
    "## 1. Burgers or Pizza?\n",
    "\n",
    "Using the dataset [*burgersOrPizza.csv*](https://raw.githubusercontent.com/cmparlettpelleriti/CPSC392ParlettPelleriti/master/Data/burgersOrPizza.csv), build 2 different models (each using a DIFFERENT algorithm, i.e. you cannot build two logistic regressions) that **predict whether or not a food item is a burger, or pizza**$^{[1]}$. \n",
    "\n",
    "**a)** explain which 2 algorithms you chose to use and why (including details like hyperparameters like k, max_depth...etc)\n",
    "\n",
    "**b)** explain which variables you chose to include and why (you must use the same predictors for both models)\n",
    "\n",
    "**c)** explain whether or not you decided to z-score your variables and why.\n",
    "\n",
    "**d)** choose ONE method of model validation, and explain why ( you must use the same method for both models; also, your reason must be based on aspects of the data and/or computational time/efficiency, and not on your lack of familiarity with the different methods).\n",
    "\n",
    "**e)** explain how your model performed, and what metric you used to decide that.\n",
    "\n",
    "**f)** compare the models: did one model do better than the other? Why do you think that was?\n",
    "\n",
    "**g)** use ggplot to build at least 1 graph to help support your answers, and write a caption for this graph.\n",
    "\n",
    "\n",
    "\n",
    "\n",
    "$^{[1]}$ The columns with `_100g` at the end represent the amount of that nutrient per 100 grams of the food. For example, `Total_Fat` tells you the total amount of fat in that food, whereas `Total_Fat_100g` tells you how much fat there is per 100 grams of that food.\n",
    "\n",
    "# 2. Donuts\n",
    "\n",
    "Using the dataset [*krispykreme.csv*](https://raw.githubusercontent.com/cmparlettpelleriti/CPSC392ParlettPelleriti/master/Data/KrispyKreme.csv) **build 2 clustering models** (using 2 different clustering algorithms)$^{[1]}$.\n",
    "\n",
    "**a)** explain which 2 algorithms you chose to use and why (including which distance metrics you chose, similarity metrics..etc if applicable and why)\n",
    "\n",
    "**b)** explain which variables you chose to include and why (you must use the same predictors for both models)\n",
    "\n",
    "**c)** explain whether or not you decided to z-score your variables and why.\n",
    "\n",
    "**d)** use silhouette scores to choose the number of clusters. Is the number of clusters the same for both of your models?\n",
    "\n",
    "**e)** explain how your models performed, and what metric you used to decide that.\n",
    "\n",
    "**f)** compare the models: how similar were the clusters between the two models?\n",
    "\n",
    "**g)** use ggplot to build a graph that helps demonstrate your point for part f, and write a caption for this graph.\n",
    "\n",
    "**h)** for both models, plot the clusters with ggplot and describe each cluster (using bullet points). Talk about what characterizes each cluster (e.g. which variables that cluster is high/low in), and give a general descriptor for the cluster (e.g. \"these donuts are likely seasonal donuts\" or \"these are healthy and/or gluten free donuts\" etc...)\n",
    "\n",
    "$^{[1]}$ The columns with `_100g` at the end represent the amount of that nutrient per 100 grams of the food. For example, `Total_Fat` tells you the total amount of fat in that food, whereas `Total_Fat_100g` tells you how much fat there is per 100 grams of that food."
   ]
  },
  {
   "cell_type": "code",
   "execution_count": 1,
   "metadata": {},
   "outputs": [],
   "source": [
    "#1"
   ]
  },
  {
   "cell_type": "markdown",
   "metadata": {},
   "source": [
    "a)\n",
    "\n",
    "b)\n",
    "\n",
    "c)\n",
    "\n",
    "d)\n",
    "\n",
    "e)\n",
    "\n",
    "f)\n",
    "\n",
    "g)"
   ]
  },
  {
   "cell_type": "code",
   "execution_count": 2,
   "metadata": {},
   "outputs": [],
   "source": [
    "#2 "
   ]
  },
  {
   "cell_type": "markdown",
   "metadata": {},
   "source": [
    "a)\n",
    "\n",
    "b)\n",
    "\n",
    "c)\n",
    "\n",
    "d)\n",
    "\n",
    "e)\n",
    "\n",
    "f)\n",
    "\n",
    "g)\n",
    "\n",
    "h)"
   ]
  }
 ],
 "metadata": {
  "hide_input": false,
  "kernelspec": {
   "display_name": "Python 3",
   "language": "python",
   "name": "python3"
  },
  "language_info": {
   "codemirror_mode": {
    "name": "ipython",
    "version": 3
   },
   "file_extension": ".py",
   "mimetype": "text/x-python",
   "name": "python",
   "nbconvert_exporter": "python",
   "pygments_lexer": "ipython3",
   "version": "3.8.1"
  },
  "toc": {
   "base_numbering": 1,
   "nav_menu": {},
   "number_sections": true,
   "sideBar": true,
   "skip_h1_title": false,
   "title_cell": "Table of Contents",
   "title_sidebar": "Contents",
   "toc_cell": false,
   "toc_position": {},
   "toc_section_display": true,
   "toc_window_display": false
  }
 },
 "nbformat": 4,
 "nbformat_minor": 4
}
