{
 "cells": [
  {
   "cell_type": "code",
   "execution_count": 2,
   "metadata": {},
   "outputs": [],
   "source": [
    "import warnings\n",
    "warnings.filterwarnings('ignore')\n",
    "\n",
    "\n",
    "import pandas as pd\n",
    "import numpy as np\n",
    "from plotnine import *"
   ]
  },
  {
   "cell_type": "markdown",
   "metadata": {},
   "source": [
    "# 1. The Math of Log Odds, Odds, and Probabilities\n",
    "\n",
    "In the lecture, you saw a beautiful (if I do say so myself...) graph demonstrating the way that Log Odds, Odds, and Probabilities change as a result of a 1-unit change in a predictor variable.\n",
    "\n",
    "Now YOU'RE going to make your own version to help you gain an intuitive sense for the math of log odds, odds, and probabilities. \n",
    "\n",
    "We're going to write a function that simulates a super simple logistic relationship: 1 predictor (X) and 1 binary outcome (y). \n",
    "\n",
    "- Add code to calculate the odds and probabilities for each data point based on the log odds and predictor values\n",
    "\n",
    "(if it helps, think of this as predicting whether or not someone is registered to vote based on their age. **OH SPEAKING OF**: are you [registered to vote](https://www.usa.gov/register-to-vote)?)\n",
    "\n"
   ]
  },
  {
   "cell_type": "code",
   "execution_count": 3,
   "metadata": {},
   "outputs": [],
   "source": [
    "def LogisticDataSimulator(intercept, slope, limits = 5):\n",
    "    \n",
    "    #generate 1000 evenly spaced values between -limits and limits\n",
    "    predictor = np.linspace(-limits, limits, 1000)\n",
    "    \n",
    "    # log odds of being registered to vote\n",
    "    log_odds = intercept + slope*predictor\n",
    "    \n",
    "    \n",
    "    # odds of being registered to vote\n",
    "    #################################\n",
    "    odds = ##\n",
    "    \n",
    "    #################################\n",
    "    \n",
    "    # probability of being registered to vote\n",
    "    #################################\n",
    "    probabilities =  ##\n",
    "    \n",
    "    #################################\n",
    "    \n",
    "    # put into a dataframe\n",
    "    df = pd.DataFrame({\"x\": predictor,\n",
    "                      \"logodds\": log_odds,\n",
    "                       \"odds\": odds,\n",
    "                       \"probabilities\": probabilities)\n",
    "    \n",
    "    return(df)"
   ]
  },
  {
   "cell_type": "markdown",
   "metadata": {},
   "source": [
    "Use the dataframe that calling `LogisticDataSimulator()` with an intercept of 1 and slope of 0.5 makes, and recreate the graph of the log odds, odds, and probabilities from the [lecture](https://github.com/cmparlettpelleriti/CPSC392ParlettPelleriti/blob/master/InClass/LectureSlides/Lecture%209%20and%2010%20_%20Logistic%20Regression.pdf). Make separate graphs for logodds, odds, and probabilities to make your life easier.\n",
    "\n",
    "I don't believe that plotnine supports subtitles, so no need to include those but include the colored lines, the titles/axis labels, and the dotted vertical lines! Don't be afraid to google how to do things in ggplot (hint: google `geom_line()` and `geom_vline()`)."
   ]
  },
  {
   "cell_type": "code",
   "execution_count": null,
   "metadata": {},
   "outputs": [],
   "source": [
    "#################################\n",
    "### YOUR CODE HERE ###\n",
    "#################################"
   ]
  },
  {
   "cell_type": "code",
   "execution_count": null,
   "metadata": {},
   "outputs": [],
   "source": []
  },
  {
   "cell_type": "code",
   "execution_count": null,
   "metadata": {},
   "outputs": [],
   "source": []
  },
  {
   "cell_type": "markdown",
   "metadata": {},
   "source": [
    "### *Question*\n",
    "\n",
    "Describe in detail how the graphs demonstrate what we learned in class: that the change in predicted probability in response to a 1 unit increase of our predictor is *not constant*?\n",
    "\n",
    "<img src=\"https://drive.google.com/uc?export=view&id=1ghyQPx1N8dmU3MV4TrANvqNhGwnLni72\" width = 200px />\n"
   ]
  },
  {
   "cell_type": "markdown",
   "metadata": {},
   "source": [
    "### YOUR ANSWER HERE "
   ]
  }
 ],
 "metadata": {
  "kernelspec": {
   "display_name": "Python 3",
   "language": "python",
   "name": "python3"
  },
  "language_info": {
   "codemirror_mode": {
    "name": "ipython",
    "version": 3
   },
   "file_extension": ".py",
   "mimetype": "text/x-python",
   "name": "python",
   "nbconvert_exporter": "python",
   "pygments_lexer": "ipython3",
   "version": "3.8.1"
  }
 },
 "nbformat": 4,
 "nbformat_minor": 4
}
