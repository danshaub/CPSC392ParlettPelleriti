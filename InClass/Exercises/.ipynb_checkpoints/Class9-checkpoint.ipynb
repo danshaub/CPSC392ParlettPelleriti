{
 "cells": [
  {
   "cell_type": "code",
   "execution_count": 1,
   "metadata": {},
   "outputs": [],
   "source": [
    "import warnings\n",
    "warnings.filterwarnings('ignore')\n",
    "\n",
    "\n",
    "import pandas as pd\n",
    "import numpy as np\n",
    "from plotnine import *\n",
    "\n",
    "from sklearn.linear_model import LogisticRegression\n",
    "from sklearn.preprocessing import StandardScaler #Z-score variables\n",
    "from sklearn.metrics import accuracy_score, confusion_matrix\n",
    "from sklearn.metrics import r2_score, mean_squared_error\n",
    "\n",
    "from sklearn.model_selection import train_test_split # simple TT split cv\n",
    "from sklearn.model_selection import KFold # k-fold cv\n",
    "from sklearn.model_selection import LeaveOneOut #LOO cv\n",
    "from sklearn.model_selection import cross_val_score # cross validation metrics\n",
    "from sklearn.model_selection import cross_val_predict # cross validation metrics\n",
    "\n",
    "from sklearn.preprocessing import LabelBinarizer\n",
    "\n",
    "from sklearn.metrics import plot_confusion_matrix"
   ]
  },
  {
   "cell_type": "markdown",
   "metadata": {},
   "source": [
    "# 1. Simulating Data"
   ]
  },
  {
   "cell_type": "markdown",
   "metadata": {},
   "source": [
    "We're generating fake data that we're going to use to predict whether a customer at Target signs up for a rewards program (`rewards_signup`) based on \n",
    "\n",
    "* their age (`age`)\n",
    "* their income (`income_in_k`), and \n",
    "* whether they made a purchase (`previous_purchase`) in the last month\n",
    "\n",
    "Remember, each time you use a np.random.XXXX function, you'll get *different* fake data, because it's randomly generated. Try it out! If you want your data to come out the SAME each time, add the line `np.random.seed(XXXX)` at the top of the next cell, where `XXXX` is any integer you want like 42, 8675309, or 1234."
   ]
  },
  {
   "cell_type": "markdown",
   "metadata": {},
   "source": [
    "## 1.1 Logistic Regression Data Simulation"
   ]
  },
  {
   "cell_type": "code",
   "execution_count": 2,
   "metadata": {},
   "outputs": [],
   "source": [
    "n = 100 # number of samples"
   ]
  },
  {
   "cell_type": "code",
   "execution_count": 3,
   "metadata": {},
   "outputs": [],
   "source": [
    "# variables---\n",
    "np.random.seed(42)\n",
    "\n",
    "age = np.round(np.random.normal(37, 5, size = n),0)\n",
    "income_in_k = np.round(np.random.normal(100,10, size = n), 2)\n",
    "previous_purchase = np.random.binomial(1,0.5, size = n)\n",
    "\n",
    "# set true coefficients---\n",
    "a = 0.1 # age\n",
    "i = 0.03 # income\n",
    "p = 2.6 # previous purchase\n",
    "\n",
    "inter = -8.2 # intercept\n",
    "\n",
    "error = np.random.normal(0,0.25,size = n) # random error\n",
    "\n",
    "# probability they signed up for reward program---\n",
    "ex = np.exp(inter + a*age + i*income_in_k + p*previous_purchase + error) #predicted odds\n",
    "reward_signup = (ex/(1 + ex)) #predicted probability\n",
    "\n",
    "\n",
    "# you may also see the log reg formula like this---\n",
    "# reward_signup = 1/(1 + (1/ex)) \n",
    "\n",
    "\n",
    "# yes/no did they sign up---\n",
    "y = np.random.binomial(1, reward_signup) #generate random values\n",
    "\n",
    "\n",
    "# make DataFrame---\n",
    "df = pd.DataFrame({\"age\": age,\n",
    "                  \"income\": income_in_k,\n",
    "                  \"previous_purchase\": previous_purchase,\n",
    "                  \"signed_up\": y})\n",
    "\n"
   ]
  },
  {
   "cell_type": "code",
   "execution_count": 4,
   "metadata": {},
   "outputs": [
    {
     "data": {
      "image/png": "[encoded data removed]",
      "text/plain": [
       "<Figure size 640x480 with 1 Axes>"
      ]
     },
     "metadata": {
      "needs_background": "light"
     },
     "output_type": "display_data"
    },
    {
     "data": {
      "text/plain": [
       "<ggplot: (120548029136)>"
      ]
     },
     "execution_count": 4,
     "metadata": {},
     "output_type": "execute_result"
    }
   ],
   "source": [
    "# plot\n",
    "(ggplot(df, aes(x = \"y\")) + geom_bar(color = \"black\") +\n",
    "theme_minimal() + labs(title = \"Did you sign up for the Rewards Program?\", x = \"\", y = \"\") + \n",
    "theme(panel_grid_major = element_blank()) +\n",
    "scale_x_continuous(breaks = [0,1], labels = [\"No\", \"Yes\"]))"
   ]
  },
  {
   "cell_type": "markdown",
   "metadata": {},
   "source": [
    "## 1.2 Fit a Logistic Regression Model"
   ]
  },
  {
   "cell_type": "code",
   "execution_count": 5,
   "metadata": {},
   "outputs": [
    {
     "data": {
      "text/plain": [
       "LogisticRegression()"
      ]
     },
     "execution_count": 5,
     "metadata": {},
     "output_type": "execute_result"
    }
   ],
   "source": [
    "features = [\"age\", \"income\", \"previous_purchase\"]\n",
    "X = df[features]\n",
    "y = df[[\"signed_up\"]] #if you don't have the extra brackets, y will be a series instead of an array and throw an error\n",
    "\n",
    "\n",
    "# create + fit a logistic regression\n",
    "#########################################\n",
    "# X_train, X_test, y_train, y_test = train_test_split(X, y, test_size=0.2)\n",
    "\n",
    "# zscore = StandardScaler()\n",
    "# zscore.fit(X_train)\n",
    "\n",
    "# Xz_train = zscore.transform(X_train)\n",
    "# Xz_test = zscore.transform(X_test)\n",
    "\n",
    "myLogit = LogisticRegression()\n",
    "myLogit.fit(X, y)\n",
    "\n",
    "# predictedVals = myLogit.predict(Xz_test)\n",
    "#########################################\n",
    "\n",
    "#########################################"
   ]
  },
  {
   "cell_type": "code",
   "execution_count": 6,
   "metadata": {},
   "outputs": [
    {
     "name": "stdout",
     "output_type": "stream",
     "text": [
      "[[0.08986586 0.07262218 1.75040197]] [-11.8466095]\n",
      "[0.08986586 0.07262218 1.75040197]\n"
     ]
    },
    {
     "data": {
      "text/html": [
       "<div>\n",
       "<style scoped>\n",
       "    .dataframe tbody tr th:only-of-type {\n",
       "        vertical-align: middle;\n",
       "    }\n",
       "\n",
       "    .dataframe tbody tr th {\n",
       "        vertical-align: top;\n",
       "    }\n",
       "\n",
       "    .dataframe thead th {\n",
       "        text-align: right;\n",
       "    }\n",
       "</style>\n",
       "<table border=\"1\" class=\"dataframe\">\n",
       "  <thead>\n",
       "    <tr style=\"text-align: right;\">\n",
       "      <th></th>\n",
       "      <th>Coef</th>\n",
       "      <th>Name</th>\n",
       "    </tr>\n",
       "  </thead>\n",
       "  <tbody>\n",
       "    <tr>\n",
       "      <th>0</th>\n",
       "      <td>0.089866</td>\n",
       "      <td>age</td>\n",
       "    </tr>\n",
       "    <tr>\n",
       "      <th>1</th>\n",
       "      <td>0.072622</td>\n",
       "      <td>income</td>\n",
       "    </tr>\n",
       "    <tr>\n",
       "      <th>2</th>\n",
       "      <td>1.750402</td>\n",
       "      <td>previous_purchase</td>\n",
       "    </tr>\n",
       "    <tr>\n",
       "      <th>3</th>\n",
       "      <td>-11.846610</td>\n",
       "      <td>intercept</td>\n",
       "    </tr>\n",
       "  </tbody>\n",
       "</table>\n",
       "</div>"
      ],
      "text/plain": [
       "        Coef               Name\n",
       "0   0.089866                age\n",
       "1   0.072622             income\n",
       "2   1.750402  previous_purchase\n",
       "3 -11.846610          intercept"
      ]
     },
     "execution_count": 6,
     "metadata": {},
     "output_type": "execute_result"
    }
   ],
   "source": [
    "# grab the coefficients from the model and store them in a data frame----\n",
    "\n",
    "print(myLogit.coef_, myLogit.intercept_)\n",
    "print(myLogit.coef_[0])\n",
    "#########################################\n",
    "coefs = pd.DataFrame({\"Coef\": myLogit.coef_[0], \"Name\": features})\n",
    "coefs = coefs.append({\"Coef\": myLogit.intercept_[0], \"Name\": \"intercept\"}, ignore_index = True)\n",
    "\n",
    "coefs.head()\n",
    "#########################################"
   ]
  },
  {
   "cell_type": "markdown",
   "metadata": {},
   "source": [
    "The coefficient of age is 0.089866, and the intercept is -11.846610. The coefficient of age indicates that as length increases by 1 year, we expect the log odds of signing up to increase by 0.0899 .\n",
    "\n",
    "### *Question*\n",
    "\n",
    "Compare that to the TRUE population values we set above (hint: print `a` and `inter`). How close are the numbers from *this* logistic regression to the true values? What do you think will happen if we created another random sample? 100 random samples?\n",
    "\n",
    "<img src=\"https://drive.google.com/uc?export=view&id=1ghyQPx1N8dmU3MV4TrANvqNhGwnLni72\" alt=\"Q\" style=\"width: 200px;\"/>"
   ]
  },
  {
   "cell_type": "code",
   "execution_count": 7,
   "metadata": {},
   "outputs": [
    {
     "name": "stdout",
     "output_type": "stream",
     "text": [
      "['age', 'income', 'previous_purchase', 'intercept']\n"
     ]
    }
   ],
   "source": [
    "feat_inter = features\n",
    "feat_inter.append(\"intercept\")\n",
    "print(feat_inter)"
   ]
  },
  {
   "cell_type": "code",
   "execution_count": 8,
   "metadata": {},
   "outputs": [
    {
     "data": {
      "text/html": [
       "<div>\n",
       "<style scoped>\n",
       "    .dataframe tbody tr th:only-of-type {\n",
       "        vertical-align: middle;\n",
       "    }\n",
       "\n",
       "    .dataframe tbody tr th {\n",
       "        vertical-align: top;\n",
       "    }\n",
       "\n",
       "    .dataframe thead th {\n",
       "        text-align: right;\n",
       "    }\n",
       "</style>\n",
       "<table border=\"1\" class=\"dataframe\">\n",
       "  <thead>\n",
       "    <tr style=\"text-align: right;\">\n",
       "      <th></th>\n",
       "      <th>Coef</th>\n",
       "      <th>Names</th>\n",
       "    </tr>\n",
       "  </thead>\n",
       "  <tbody>\n",
       "    <tr>\n",
       "      <th>0</th>\n",
       "      <td>0.10</td>\n",
       "      <td>age</td>\n",
       "    </tr>\n",
       "    <tr>\n",
       "      <th>1</th>\n",
       "      <td>0.03</td>\n",
       "      <td>income</td>\n",
       "    </tr>\n",
       "    <tr>\n",
       "      <th>2</th>\n",
       "      <td>2.60</td>\n",
       "      <td>previous_purchase</td>\n",
       "    </tr>\n",
       "    <tr>\n",
       "      <th>3</th>\n",
       "      <td>-8.20</td>\n",
       "      <td>intercept</td>\n",
       "    </tr>\n",
       "  </tbody>\n",
       "</table>\n",
       "</div>"
      ],
      "text/plain": [
       "   Coef              Names\n",
       "0  0.10                age\n",
       "1  0.03             income\n",
       "2  2.60  previous_purchase\n",
       "3 -8.20          intercept"
      ]
     },
     "execution_count": 8,
     "metadata": {},
     "output_type": "execute_result"
    }
   ],
   "source": [
    "trueCoefs = pd.DataFrame({\"Coef\": [a, i, p, inter], \"Names\": feat_inter})\n",
    "trueCoefs.head()"
   ]
  },
  {
   "cell_type": "markdown",
   "metadata": {},
   "source": [
    "The calculated coefficients and intercept are all within a reasonable error from the true values. Some of the values are farther off than others, but given the small size of the data set, it isn't unreasonable for the values to be somewhat unrepresentative of the true population.\n",
    "\n",
    "If we were to perfrom the logistic regression on another randomly generated data set, they would be within a similar error range as the coefficients calcualted above. The more data points generated, however, the closer to the true values the regression will get."
   ]
  },
  {
   "cell_type": "markdown",
   "metadata": {},
   "source": [
    "### *Question*\n",
    "\n",
    "What is the interpretation of the income coefficient?\n",
    "\n",
    "<img src=\"https://drive.google.com/uc?export=view&id=1ghyQPx1N8dmU3MV4TrANvqNhGwnLni72\" alt=\"Q\" style=\"width: 200px;\"/>"
   ]
  },
  {
   "cell_type": "markdown",
   "metadata": {},
   "source": [
    "The income coefficient means for every $1000 extra made in income, the log odds of of someone signing up increases by 0.03 (in the true population)"
   ]
  },
  {
   "cell_type": "markdown",
   "metadata": {},
   "source": [
    "# 2. Log Odds, Odds, and Probabilities\n",
    "\n",
    "The coefficients for **log**istic regression are in terms of **log** odds. While this means that our regression formula is nice and easy to solve, log odds can be tough to wrap your head around. Often, we exponentiate the coefficients (using `np.exp()`) to get our coefficients in terms of odds rather than log odds."
   ]
  },
  {
   "cell_type": "markdown",
   "metadata": {},
   "source": [
    "## 2.1 Odds\n",
    "\n",
    "We'll grab our coefficients from `coef` and exponentiate them:"
   ]
  },
  {
   "cell_type": "code",
   "execution_count": 9,
   "metadata": {},
   "outputs": [
    {
     "name": "stdout",
     "output_type": "stream",
     "text": [
      "0.08986585653542517\n",
      "0.0726221791528106\n",
      "1.7504019661909056\n",
      "-11.846609504114348\n"
     ]
    },
    {
     "data": {
      "text/html": [
       "<div>\n",
       "<style scoped>\n",
       "    .dataframe tbody tr th:only-of-type {\n",
       "        vertical-align: middle;\n",
       "    }\n",
       "\n",
       "    .dataframe tbody tr th {\n",
       "        vertical-align: top;\n",
       "    }\n",
       "\n",
       "    .dataframe thead th {\n",
       "        text-align: right;\n",
       "    }\n",
       "</style>\n",
       "<table border=\"1\" class=\"dataframe\">\n",
       "  <thead>\n",
       "    <tr style=\"text-align: right;\">\n",
       "      <th></th>\n",
       "      <th>Coef</th>\n",
       "      <th>Name</th>\n",
       "      <th>Odds</th>\n",
       "    </tr>\n",
       "  </thead>\n",
       "  <tbody>\n",
       "    <tr>\n",
       "      <th>0</th>\n",
       "      <td>0.089866</td>\n",
       "      <td>age</td>\n",
       "      <td>1.094028</td>\n",
       "    </tr>\n",
       "    <tr>\n",
       "      <th>1</th>\n",
       "      <td>0.072622</td>\n",
       "      <td>income</td>\n",
       "      <td>1.075324</td>\n",
       "    </tr>\n",
       "    <tr>\n",
       "      <th>2</th>\n",
       "      <td>1.750402</td>\n",
       "      <td>previous_purchase</td>\n",
       "      <td>5.756916</td>\n",
       "    </tr>\n",
       "    <tr>\n",
       "      <th>3</th>\n",
       "      <td>-11.846610</td>\n",
       "      <td>intercept</td>\n",
       "      <td>0.000007</td>\n",
       "    </tr>\n",
       "  </tbody>\n",
       "</table>\n",
       "</div>"
      ],
      "text/plain": [
       "        Coef               Name      Odds\n",
       "0   0.089866                age  1.094028\n",
       "1   0.072622             income  1.075324\n",
       "2   1.750402  previous_purchase  5.756916\n",
       "3 -11.846610          intercept  0.000007"
      ]
     },
     "execution_count": 9,
     "metadata": {},
     "output_type": "execute_result"
    }
   ],
   "source": [
    "\n",
    "#########################################\n",
    "# add a new colum to your dataframe coef that has the coefficients in terms of ODDS\n",
    "\n",
    "odds = []\n",
    "\n",
    "for i in coefs[\"Coef\"]:\n",
    "    print(i)\n",
    "    odds.append(np.exp(i))\n",
    "    \n",
    "coefs['Odds'] = odds\n",
    "\n",
    "coefs.head()\n",
    "\n",
    "#########################################"
   ]
  },
  {
   "cell_type": "markdown",
   "metadata": {},
   "source": [
    "The way you interpret coefficients in their exponentiated (odds) form is similar to how you interpret them in their raw form.\n",
    "\n",
    "Here's an example of the difference:\n",
    "\n",
    "**Raw Coefficient**: And increase in 1 year of age is associated with a 0.0899 increase in the log odds of signing up for the rewards program.\n",
    "\n",
    "**Exponentiated Coefficient**: An increase in 1 year of age is associated with a 1.094x increase in the odds of signing up for the rewards program.\n",
    "\n",
    "However, the math is slightly different."
   ]
  },
  {
   "cell_type": "markdown",
   "metadata": {},
   "source": [
    "### *Question*\n",
    "\n",
    "What is the interpretation of the age and income coefficients in terms of *odds*?\n",
    "<img src=\"https://drive.google.com/uc?export=view&id=1ghyQPx1N8dmU3MV4TrANvqNhGwnLni72\" alt=\"Q\" style=\"width: 200px;\"/>"
   ]
  },
  {
   "cell_type": "markdown",
   "metadata": {},
   "source": [
    "The age coefficient means that for each increase in age by 1 year, the odds of signing up for the rewards program increase by 1.094 times\n",
    "\n",
    "The income coefficient means that for each increase in income by $1000, the odds of signing up for the rewards program increase by 1.075 times"
   ]
  },
  {
   "cell_type": "markdown",
   "metadata": {},
   "source": [
    "## 2.2 More Odds\n",
    "\n",
    "Using the coefficients generated by our model, let's look at how the predicted log odds and odds change when we play around with the values for `age`, `income`, and `previous_purchase`."
   ]
  },
  {
   "cell_type": "code",
   "execution_count": 12,
   "metadata": {},
   "outputs": [],
   "source": [
    "# Function to calculate the LOG ODDS based on coefs and predictor values\n",
    "\n",
    "def calc_lo(age,income, previous_purchase, coefs):\n",
    "    return(np.sum(np.array([age,income, previous_purchase, 1]) * coefs))"
   ]
  },
  {
   "cell_type": "code",
   "execution_count": 29,
   "metadata": {},
   "outputs": [
    {
     "name": "stdout",
     "output_type": "stream",
     "text": [
      "The coefficient for age is: 0.08986585653542517, times the increase in age, : 0.08986585653542517\n",
      "Log Odds for Original: 0.5353084347927428\n",
      "Log Odds for +[1] year(s) : 0.6251742913281682\n",
      "\n",
      "The difference in log odds is: 0.08986585653542534\n"
     ]
    }
   ],
   "source": [
    "#########################################\n",
    "age_value = 40\n",
    "age_increase = 1\n",
    "#########################################\n",
    "print(\"The coefficient for age is: \" + str(coefs[\"Coef\"][0]) + \", times the increase in age, : \" + str(coefs[\"Coef\"][0] * age_increase))\n",
    "\n",
    "# predicted logOdds for a 40 year old, with 121k income, no previous purchase\n",
    "lo = calc_lo(age_value,121,0, coefs[\"Coef\"])\n",
    "print(\"Log Odds for Original: \" + str(lo))\n",
    "\n",
    "\n",
    "# predicted logOdds for a 41 year old, with 121k income, no previous purchase\n",
    "lo2 = calc_lo(age_value + age_increase,121,0, coefs[\"Coef\"])\n",
    "print(\"Log Odds for +[\" + str(age_increase) + \"] year(s) : \" + str(lo2))\n",
    "\n",
    "# change in log odds for 1 year increase in age\n",
    "print(\"\\nThe difference in log odds is: \"  + str(lo2-lo))"
   ]
  },
  {
   "cell_type": "markdown",
   "metadata": {},
   "source": [
    "### *Question*\n",
    "\n",
    "The change in log odds for adding 1 year to a customer's age is equal to the coefficient for `age` from our model (As expected). Play around with the above code using different ages. How does the difference in predicted log odds change in response to a 1 year increase in age? Does it always change by the same amount?\n",
    "\n",
    "<img src=\"https://drive.google.com/uc?export=view&id=1ghyQPx1N8dmU3MV4TrANvqNhGwnLni72\" alt=\"Q\" style=\"width: 200px;\"/>\n",
    "\n",
    "There is a linear relationship between the coefficient and the log odds calculated using the model; for any x increase in years of age, the increase in log odds is x * the coefficient for age.\n",
    "\n",
    "Now let's look at the odds."
   ]
  },
  {
   "cell_type": "code",
   "execution_count": 25,
   "metadata": {},
   "outputs": [],
   "source": [
    "# Function to calculate the ODDS based on coefs and predictor values\n",
    "# odds = e^lo\n",
    "\n",
    "def calc_o(age,income, previous_purchase, coefs):\n",
    "    return(np.exp(np.sum(np.array([age,income, previous_purchase, 1]) * coefs)))"
   ]
  },
  {
   "cell_type": "code",
   "execution_count": 30,
   "metadata": {},
   "outputs": [
    {
     "name": "stdout",
     "output_type": "stream",
     "text": [
      "Odds for Original: 1.7079749599237823\n",
      "Odds for +1 year : 1.8685716048794268\n",
      "\n",
      "The ratio of odds is: 1.0940275172200482\n"
     ]
    }
   ],
   "source": [
    "#########################################\n",
    "age_value = 40\n",
    "age_increase = 1\n",
    "#########################################\n",
    "\n",
    "# predicted odds for a 40 year old, with 121k income, no previous purchase\n",
    "o = calc_o(age_value,121,0, coefs[\"Coef\"])\n",
    "print(\"Odds for Original: \" + str(o))\n",
    "\n",
    "\n",
    "# predicted odds for a 41 year old, with 121k income, no previous purchase\n",
    "o2 = calc_o(age_value + 1,121,0, coefs[\"Coef\"])\n",
    "print(\"Odds for +1 year : \" + str(o2))\n",
    "\n",
    "# change in odds for 1 year increase\n",
    "print(\"\\nThe ratio of odds is: \"  + str(o2/o))"
   ]
  },
  {
   "cell_type": "markdown",
   "metadata": {},
   "source": [
    "Now try with a 27 year old."
   ]
  },
  {
   "cell_type": "code",
   "execution_count": 31,
   "metadata": {},
   "outputs": [
    {
     "name": "stdout",
     "output_type": "stream",
     "text": [
      "Odds for Original: 0.5310241916220041\n",
      "Odds for +1 year : 0.5809550779440043\n",
      "\n",
      "The ratio of odds is: 1.0940275172200482\n"
     ]
    }
   ],
   "source": [
    "age_value = 27\n",
    "\n",
    "# predicted odds for a 27 year old, with 121k income, no previous purchase\n",
    "o = calc_o(age_value,121,0, coefs[\"Coef\"])\n",
    "print(\"Odds for Original: \" + str(o))\n",
    "\n",
    "\n",
    "# predicted odds for a 28 year old, with 121k income, no previous purchase\n",
    "o2 = calc_o(age_value + 1,121,0, coefs[\"Coef\"])\n",
    "print(\"Odds for +1 year : \" + str(o2))\n",
    "\n",
    "# change in odds for 1 year increase\n",
    "print(\"\\nThe ratio of odds is: \"  + str(o2/o))"
   ]
  },
  {
   "cell_type": "markdown",
   "metadata": {},
   "source": [
    "### *Question*\n",
    "\n",
    "The change in the ratio of odds for adding 1 year to a customer's age is equal to the exponentiated coefficient for `age` from our model (As expected). Now try plugging in some other ages. Is the change in the ratio (`o2/o`) *always* about 1.094 (there may be a small amount of rounding error)?\n",
    "\n",
    "<img src=\"https://drive.google.com/uc?export=view&id=1ghyQPx1N8dmU3MV4TrANvqNhGwnLni72\" alt=\"Q\" style=\"width: 200px;\"/>"
   ]
  },
  {
   "cell_type": "code",
   "execution_count": 35,
   "metadata": {},
   "outputs": [
    {
     "name": "stdout",
     "output_type": "stream",
     "text": [
      "Odds for Original: 5.493494476807507\n",
      "Odds for +1 year : 6.010034123323765\n",
      "\n",
      "The change in odds is: 1.0940275172200482\n"
     ]
    }
   ],
   "source": [
    "#########################################\n",
    "# play around with different ages\n",
    "age_value = 53\n",
    "#########################################\n",
    "\n",
    "# predicted odds for a 30 year old, with 121k income, no previous purchase\n",
    "o = calc_o(age_value,121,0, coefs[\"Coef\"])\n",
    "print(\"Odds for Original: \" + str(o))\n",
    "\n",
    "\n",
    "# predicted odds for a 31 year old, with 121k income, no previous purchase\n",
    "o2 = calc_o(age_value + 1,121,0, coefs[\"Coef\"])\n",
    "print(\"Odds for +1 year : \" + str(o2))\n",
    "\n",
    "# change in odds for 1 year increase\n",
    "print(\"\\nThe change in odds is: \"  + str(o2/o))"
   ]
  },
  {
   "cell_type": "markdown",
   "metadata": {},
   "source": [
    "## 2.3 Probabilities are Problematic\n",
    "\n",
    "If you work with people who aren't familiar with them, even odds can seem tricky to interpret. So people will often ask you to transform odds into probabilities."
   ]
  },
  {
   "cell_type": "code",
   "execution_count": 36,
   "metadata": {},
   "outputs": [],
   "source": [
    "# Function to calculate the probability based on coefs and predictor values\n",
    "\n",
    "def calc_p(age,income, previous_purchase, coefs):\n",
    "    odds = np.exp(np.sum(np.array([age,income, previous_purchase, 1]) * coefs))\n",
    "    return(odds/(1+odds))"
   ]
  },
  {
   "cell_type": "code",
   "execution_count": 38,
   "metadata": {},
   "outputs": [
    {
     "name": "stdout",
     "output_type": "stream",
     "text": [
      "Probability for Original: 0.6307203667687734\n",
      "Probability for +1 year : 0.6513944437367348\n",
      "\n",
      "The difference in probability is: 0.02067407696796142\n",
      "The change in probability is: 1.0327785149445485\n"
     ]
    }
   ],
   "source": [
    "#########################################\n",
    "age_value = 40\n",
    "#########################################\n",
    "\n",
    "# predicted prob for a 40 year old, with 121k income, no previous purchase\n",
    "o = calc_p(age_value,121,0, coefs[\"Coef\"])\n",
    "print(\"Probability for Original: \" + str(o))\n",
    "\n",
    "\n",
    "# predicted prob for a 41 year old, with 121k income, no previous purchase\n",
    "o2 = calc_p(age_value + 1,121,0, coefs[\"Coef\"])\n",
    "print(\"Probability for +1 year : \" + str(o2))\n",
    "\n",
    "# change in prob for 1 year increase\n",
    "print(\"\\nThe difference in probability is: \"  + str(o2-o))\n",
    "print(\"The change in probability is: \"  + str(o2/o))"
   ]
  },
  {
   "cell_type": "markdown",
   "metadata": {},
   "source": [
    "### *Question*\n",
    "\n",
    "Play around with different ages. Is either the *difference* or the *ratio* of the probabilities constant no matter what age you start with?\n",
    "\n",
    "<img src=\"https://drive.google.com/uc?export=view&id=1ghyQPx1N8dmU3MV4TrANvqNhGwnLni72\" alt=\"Q\" style=\"width: 200px;\"/>"
   ]
  },
  {
   "cell_type": "code",
   "execution_count": 46,
   "metadata": {},
   "outputs": [
    {
     "name": "stdout",
     "output_type": "stream",
     "text": [
      "Probability for Original: 0.04882479638345677\n",
      "Probability for +1 year : 0.05317156678233796\n",
      "\n",
      "The difference in probability is: 0.004346770398881192\n",
      "The change in probability is: 1.089027926808805\n"
     ]
    }
   ],
   "source": [
    "def calc_p(age,income, previous_purchase, coefs):\n",
    "    odds = np.exp(np.sum(np.array([age,income, previous_purchase, 1]) * coefs))\n",
    "    return(odds/(1+odds))\n",
    "\n",
    "#########################################\n",
    "# play around with age values\n",
    "age_value = 1\n",
    "#########################################\n",
    "\n",
    "# predicted prob for a ??? year old, with 121k income, no previous purchase\n",
    "o = calc_p(age_value,121,0, coefs[\"Coef\"])\n",
    "print(\"Probability for Original: \" + str(o))\n",
    "\n",
    "\n",
    "# predicted prob for a ??? +1 year old, with 121k income, no previous purchase\n",
    "o2 = calc_p(age_value + 1,121,0, coefs[\"Coef\"])\n",
    "print(\"Probability for +1 year : \" + str(o2))\n",
    "\n",
    "# change in prob for 1 year increase\n",
    "print(\"\\nThe difference in probability is: \"  + str(o2-o))\n",
    "print(\"The change in probability is: \"  + str(o2/o))"
   ]
  },
  {
   "cell_type": "markdown",
   "metadata": {},
   "source": [
    "(Moral of the story probabilities can make more intuitive sense, but the amount a 1 unit increase in a predictor changes the predicted probability is *NOT CONSTANT*, it depends heavily on the values of the predictor of interest and all other predictors. If you're going to report in terms of probabilities you MUST be specific about what values all your predictors have.)"
   ]
  },
  {
   "cell_type": "markdown",
   "metadata": {},
   "source": [
    "# 3. Accuracy Across Simulations\n",
    "\n",
    "Now, let's use this function to generate *many* fake datasets that all have the same true coefficients. Similar to adding mse in the Linear Regression example, change the below function to also record the accuracy for each model and return it."
   ]
  },
  {
   "cell_type": "code",
   "execution_count": 49,
   "metadata": {},
   "outputs": [],
   "source": [
    "def logisticRegression(n = 100, age = 0.1, i = 0.03, p = 2.6, inter = -8.2):\n",
    "\n",
    "    age = np.round(np.random.normal(37, 5, size = n),0)\n",
    "    income_in_k = np.round(np.random.normal(100,10, size = n), 2)\n",
    "    previous_purchase = np.random.binomial(1,0.5, size = n)\n",
    "    \n",
    "    error = np.random.normal(0,0.25,size = n) # random error\n",
    "\n",
    "    # probability they signed up for reward program---\n",
    "    ex = np.exp(inter + a*age + i*income_in_k + p*previous_purchase + error)\n",
    "    reward_signup = (ex/(1 + ex)) \n",
    "\n",
    "\n",
    "    # you may also see the log reg formula like this---\n",
    "    # reward_signup = 1/(1 + (1/ex)) \n",
    "\n",
    "\n",
    "    # yes/no did they sign up---\n",
    "    y = np.random.binomial(1, reward_signup)\n",
    "    \n",
    "    # make DataFrame---\n",
    "    df = pd.DataFrame({\"age\": age,\n",
    "                      \"income\": income_in_k,\n",
    "                      \"previous_purchase\": previous_purchase,\n",
    "                      \"signed_up\": y})\n",
    "    \n",
    "    features = [\"age\", \"income\", \"previous_purchase\"]\n",
    "    X = df[features]\n",
    "    y = df[[\"signed_up\"]] #if you don't have the extra brackets, y will be a series instead of an array and throw an error\n",
    "\n",
    "    #########################################\n",
    "    # run + fit a logistic regression\n",
    "\n",
    "    lr = LogisticRegression()\n",
    "    lr.fit(X, y)\n",
    "    \n",
    "    predictedVals = myLogit.predict(X)\n",
    "    #########################################\n",
    "    \n",
    "    ##### ADD Acc CODE HERE ######\n",
    "    acc = accuracy_score(y, predictedVals)\n",
    "    ###############################\n",
    "    \n",
    "    \n",
    "    # grab the coefficients from the model and store them in a data frame\n",
    "    coef = pd.DataFrame({\"Coef\": lr.coef_[0], \"Names\": features})\n",
    "    coef = coef.append({\"Coef\": lr.intercept_[0], \"Names\": \"intercept\"}, ignore_index = True)\n",
    "    \n",
    "    return({\"coef\": coef, \"data\": df, \"acc\": acc}) # dont forget to return accuracy!!#########################################\n"
   ]
  },
  {
   "cell_type": "markdown",
   "metadata": {},
   "source": [
    "### *Question*\n",
    "\n",
    "Simulate 500 datasets and plot a histogram of the accuracies. Remember, all these datasets are generated the exact same way and all have the exact same true values and error. What does the shape and spread of the histogram tell you about the accuracy values you observe when running a single model on a single (non-simulated) dataset?\n",
    "\n",
    "<img src=\"https://drive.google.com/uc?export=view&id=1ghyQPx1N8dmU3MV4TrANvqNhGwnLni72\" alt=\"Q\" width = 200px/>"
   ]
  },
  {
   "cell_type": "code",
   "execution_count": 147,
   "metadata": {},
   "outputs": [],
   "source": [
    "n = 100\n",
    "#run regression simulation 500 times\n",
    "iWouldRun500Regressions = [logisticRegression() for x in range(0,500)]\n",
    "\n",
    "# grab coefficients from 500 simulations\n",
    "coef_df = pd.concat([x[\"coef\"] for x in iWouldRun500Regressions])\n",
    "\n",
    "# grab coefficients from 500 simulations\n",
    "data_df = pd.concat([x[\"data\"] for x in iWouldRun500Regressions])\n",
    "\n",
    "# grab acc from 500 simulations\n",
    "acc_df = pd.DataFrame({\"acc\": [x[\"acc\"] for x in iWouldRun500Regressions]})"
   ]
  },
  {
   "cell_type": "code",
   "execution_count": 154,
   "metadata": {},
   "outputs": [],
   "source": [
    "# number simulations 0:499\n",
    "data_df[\"simulation_no\"] = sorted(list(range(0,500))* n)\n",
    "coef_df[\"simulation_no\"] = sorted(list(range(0,500))*(len(features)))\n",
    "acc_df[\"simulation_no\"] = list(range(0,500))"
   ]
  },
  {
   "cell_type": "code",
   "execution_count": 155,
   "metadata": {},
   "outputs": [
    {
     "data": {
      "text/html": [
       "<div>\n",
       "<style scoped>\n",
       "    .dataframe tbody tr th:only-of-type {\n",
       "        vertical-align: middle;\n",
       "    }\n",
       "\n",
       "    .dataframe tbody tr th {\n",
       "        vertical-align: top;\n",
       "    }\n",
       "\n",
       "    .dataframe thead th {\n",
       "        text-align: right;\n",
       "    }\n",
       "</style>\n",
       "<table border=\"1\" class=\"dataframe\">\n",
       "  <thead>\n",
       "    <tr style=\"text-align: right;\">\n",
       "      <th></th>\n",
       "      <th>age</th>\n",
       "      <th>income</th>\n",
       "      <th>previous_purchase</th>\n",
       "      <th>signed_up</th>\n",
       "      <th>simulation_no</th>\n",
       "    </tr>\n",
       "  </thead>\n",
       "  <tbody>\n",
       "    <tr>\n",
       "      <th>0</th>\n",
       "      <td>33.0</td>\n",
       "      <td>97.23</td>\n",
       "      <td>1</td>\n",
       "      <td>1</td>\n",
       "      <td>0</td>\n",
       "    </tr>\n",
       "    <tr>\n",
       "      <th>1</th>\n",
       "      <td>36.0</td>\n",
       "      <td>101.47</td>\n",
       "      <td>1</td>\n",
       "      <td>1</td>\n",
       "      <td>0</td>\n",
       "    </tr>\n",
       "    <tr>\n",
       "      <th>2</th>\n",
       "      <td>30.0</td>\n",
       "      <td>102.75</td>\n",
       "      <td>0</td>\n",
       "      <td>0</td>\n",
       "      <td>0</td>\n",
       "    </tr>\n",
       "    <tr>\n",
       "      <th>3</th>\n",
       "      <td>33.0</td>\n",
       "      <td>93.59</td>\n",
       "      <td>1</td>\n",
       "      <td>1</td>\n",
       "      <td>0</td>\n",
       "    </tr>\n",
       "    <tr>\n",
       "      <th>4</th>\n",
       "      <td>34.0</td>\n",
       "      <td>77.89</td>\n",
       "      <td>1</td>\n",
       "      <td>1</td>\n",
       "      <td>0</td>\n",
       "    </tr>\n",
       "  </tbody>\n",
       "</table>\n",
       "</div>"
      ],
      "text/plain": [
       "    age  income  previous_purchase  signed_up  simulation_no\n",
       "0  33.0   97.23                  1          1              0\n",
       "1  36.0  101.47                  1          1              0\n",
       "2  30.0  102.75                  0          0              0\n",
       "3  33.0   93.59                  1          1              0\n",
       "4  34.0   77.89                  1          1              0"
      ]
     },
     "execution_count": 155,
     "metadata": {},
     "output_type": "execute_result"
    }
   ],
   "source": [
    "data_df.head()"
   ]
  },
  {
   "cell_type": "code",
   "execution_count": 156,
   "metadata": {},
   "outputs": [
    {
     "data": {
      "text/html": [
       "<div>\n",
       "<style scoped>\n",
       "    .dataframe tbody tr th:only-of-type {\n",
       "        vertical-align: middle;\n",
       "    }\n",
       "\n",
       "    .dataframe tbody tr th {\n",
       "        vertical-align: top;\n",
       "    }\n",
       "\n",
       "    .dataframe thead th {\n",
       "        text-align: right;\n",
       "    }\n",
       "</style>\n",
       "<table border=\"1\" class=\"dataframe\">\n",
       "  <thead>\n",
       "    <tr style=\"text-align: right;\">\n",
       "      <th></th>\n",
       "      <th>Coef</th>\n",
       "      <th>Names</th>\n",
       "      <th>simulation_no</th>\n",
       "    </tr>\n",
       "  </thead>\n",
       "  <tbody>\n",
       "    <tr>\n",
       "      <th>0</th>\n",
       "      <td>0.046515</td>\n",
       "      <td>age</td>\n",
       "      <td>0</td>\n",
       "    </tr>\n",
       "    <tr>\n",
       "      <th>1</th>\n",
       "      <td>0.031218</td>\n",
       "      <td>income</td>\n",
       "      <td>0</td>\n",
       "    </tr>\n",
       "    <tr>\n",
       "      <th>2</th>\n",
       "      <td>2.329136</td>\n",
       "      <td>previous_purchase</td>\n",
       "      <td>0</td>\n",
       "    </tr>\n",
       "    <tr>\n",
       "      <th>3</th>\n",
       "      <td>-6.430456</td>\n",
       "      <td>intercept</td>\n",
       "      <td>0</td>\n",
       "    </tr>\n",
       "    <tr>\n",
       "      <th>0</th>\n",
       "      <td>0.101398</td>\n",
       "      <td>age</td>\n",
       "      <td>1</td>\n",
       "    </tr>\n",
       "  </tbody>\n",
       "</table>\n",
       "</div>"
      ],
      "text/plain": [
       "       Coef              Names  simulation_no\n",
       "0  0.046515                age              0\n",
       "1  0.031218             income              0\n",
       "2  2.329136  previous_purchase              0\n",
       "3 -6.430456          intercept              0\n",
       "0  0.101398                age              1"
      ]
     },
     "execution_count": 156,
     "metadata": {},
     "output_type": "execute_result"
    }
   ],
   "source": [
    "coef_df.head()"
   ]
  },
  {
   "cell_type": "code",
   "execution_count": 157,
   "metadata": {},
   "outputs": [
    {
     "data": {
      "text/html": [
       "<div>\n",
       "<style scoped>\n",
       "    .dataframe tbody tr th:only-of-type {\n",
       "        vertical-align: middle;\n",
       "    }\n",
       "\n",
       "    .dataframe tbody tr th {\n",
       "        vertical-align: top;\n",
       "    }\n",
       "\n",
       "    .dataframe thead th {\n",
       "        text-align: right;\n",
       "    }\n",
       "</style>\n",
       "<table border=\"1\" class=\"dataframe\">\n",
       "  <thead>\n",
       "    <tr style=\"text-align: right;\">\n",
       "      <th></th>\n",
       "      <th>acc</th>\n",
       "      <th>simulation_no</th>\n",
       "    </tr>\n",
       "  </thead>\n",
       "  <tbody>\n",
       "    <tr>\n",
       "      <th>0</th>\n",
       "      <td>0.71</td>\n",
       "      <td>0</td>\n",
       "    </tr>\n",
       "    <tr>\n",
       "      <th>1</th>\n",
       "      <td>0.76</td>\n",
       "      <td>1</td>\n",
       "    </tr>\n",
       "    <tr>\n",
       "      <th>2</th>\n",
       "      <td>0.73</td>\n",
       "      <td>2</td>\n",
       "    </tr>\n",
       "    <tr>\n",
       "      <th>3</th>\n",
       "      <td>0.70</td>\n",
       "      <td>3</td>\n",
       "    </tr>\n",
       "    <tr>\n",
       "      <th>4</th>\n",
       "      <td>0.78</td>\n",
       "      <td>4</td>\n",
       "    </tr>\n",
       "  </tbody>\n",
       "</table>\n",
       "</div>"
      ],
      "text/plain": [
       "    acc  simulation_no\n",
       "0  0.71              0\n",
       "1  0.76              1\n",
       "2  0.73              2\n",
       "3  0.70              3\n",
       "4  0.78              4"
      ]
     },
     "execution_count": 157,
     "metadata": {},
     "output_type": "execute_result"
    }
   ],
   "source": [
    "acc_df.head()"
   ]
  },
  {
   "cell_type": "code",
   "execution_count": 158,
   "metadata": {},
   "outputs": [
    {
     "data": {
      "image/png": "[encoded data removed]",
      "text/plain": [
       "<Figure size 640x480 with 1 Axes>"
      ]
     },
     "metadata": {},
     "output_type": "display_data"
    },
    {
     "data": {
      "text/plain": [
       "<ggplot: (120552676425)>"
      ]
     },
     "execution_count": 158,
     "metadata": {},
     "output_type": "execute_result"
    }
   ],
   "source": [
    "# plot a histogram or density plot of the different accuracy values\n",
    "\n",
    "(ggplot(acc_df, aes(\"acc\")) + geom_histogram())"
   ]
  },
  {
   "cell_type": "code",
   "execution_count": 171,
   "metadata": {},
   "outputs": [
    {
     "data": {
      "image/png": "[encoded data removed]",
      "text/plain": [
       "<Figure size 640x480 with 1 Axes>"
      ]
     },
     "metadata": {},
     "output_type": "display_data"
    },
    {
     "data": {
      "text/plain": [
       "<ggplot: (120553022181)>"
      ]
     },
     "execution_count": 171,
     "metadata": {},
     "output_type": "execute_result"
    }
   ],
   "source": [
    "# plot a histogram or density plot of the different coefficient values\n",
    "\n",
    "ages = coef_df[\"Names\"] == \"age\"\n",
    "incomes = coef_df[\"Names\"] == \"income\"\n",
    "intercepts = coef_df[\"Names\"] == \"intercept\"\n",
    "previous_purchases = coef_df[\"Names\"] == \"previous_purchase\"\n",
    "\n",
    "(ggplot(coef_df.loc[ages], aes(x = \"Coef\", color = \"Names\", fill = \"Names\"))  + \n",
    " geom_density(aes(y='stat(count)'), alpha=0.1))"
   ]
  },
  {
   "cell_type": "code",
   "execution_count": 172,
   "metadata": {},
   "outputs": [
    {
     "data": {
      "image/png": "[encoded data removed]",
      "text/plain": [
       "<Figure size 640x480 with 1 Axes>"
      ]
     },
     "metadata": {},
     "output_type": "display_data"
    },
    {
     "data": {
      "text/plain": [
       "<ggplot: (120552978875)>"
      ]
     },
     "execution_count": 172,
     "metadata": {},
     "output_type": "execute_result"
    }
   ],
   "source": [
    "(ggplot(coef_df.loc[incomes], aes(x = \"Coef\", color = \"Names\", fill = \"Names\"))  + \n",
    " geom_density(aes(y='stat(count)'), alpha=0.1))"
   ]
  },
  {
   "cell_type": "code",
   "execution_count": 173,
   "metadata": {},
   "outputs": [
    {
     "data": {
      "image/png": "[encoded data removed]",
      "text/plain": [
       "<Figure size 640x480 with 1 Axes>"
      ]
     },
     "metadata": {},
     "output_type": "display_data"
    },
    {
     "data": {
      "text/plain": [
       "<ggplot: (120553627579)>"
      ]
     },
     "execution_count": 173,
     "metadata": {},
     "output_type": "execute_result"
    }
   ],
   "source": [
    "(ggplot(coef_df.loc[previous_purchases], aes(x = \"Coef\", color = \"Names\", fill = \"Names\"))  + \n",
    " geom_density(aes(y='stat(count)'), alpha=0.1))"
   ]
  },
  {
   "cell_type": "code",
   "execution_count": 175,
   "metadata": {},
   "outputs": [
    {
     "data": {
      "image/png": "[encoded data removed]",
      "text/plain": [
       "<Figure size 640x480 with 1 Axes>"
      ]
     },
     "metadata": {},
     "output_type": "display_data"
    },
    {
     "data": {
      "text/plain": [
       "<ggplot: (120553627435)>"
      ]
     },
     "execution_count": 175,
     "metadata": {},
     "output_type": "execute_result"
    }
   ],
   "source": [
    "(ggplot(coef_df.loc[intercepts], aes(x = \"Coef\", color = \"Names\", fill = \"Names\"))  + \n",
    " geom_density(aes(y='stat(count)'), alpha=0.1))"
   ]
  }
 ],
 "metadata": {
  "kernelspec": {
   "display_name": "Python 3",
   "language": "python",
   "name": "python3"
  },
  "language_info": {
   "codemirror_mode": {
    "name": "ipython",
    "version": 3
   },
   "file_extension": ".py",
   "mimetype": "text/x-python",
   "name": "python",
   "nbconvert_exporter": "python",
   "pygments_lexer": "ipython3",
   "version": "3.8.6"
  }
 },
 "nbformat": 4,
 "nbformat_minor": 4
}
