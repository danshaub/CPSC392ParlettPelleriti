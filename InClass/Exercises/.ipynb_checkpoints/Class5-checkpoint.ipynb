{
 "cells": [
  {
   "cell_type": "code",
   "execution_count": 56,
   "metadata": {},
   "outputs": [],
   "source": [
    "# import necessary packages\n",
    "\n",
    "import warnings\n",
    "warnings.filterwarnings('ignore')\n"
   ]
  },
  {
   "cell_type": "markdown",
   "metadata": {},
   "source": [
    "1. Load the necessary libraries (pandas, plotnine)\n",
    "\n",
    "2. Load the following dataset `Fifa = pd.read_csv(\"https://raw.githubusercontent.com/cmparlettpelleriti/CPSC392ParlettPelleriti/master/Data/players_15.csv\")`. For more info check out [this link.](https://www.kaggle.com/stefanoleone992/fifa-20-complete-player-dataset/version/1#)\n",
    "\n",
    "3. How old is the average player in FIFA20? Use plotnine/ggplot to plot a histogram of their ages.\n",
    "\n",
    "4. Do right footed players weigh more than left footed players? Use ggplot/plotnine to make a graph to answer this question.\n",
    "\n",
    "5. Is there a difference in height between the clubs Chelsea and Manchester United? Use ggplot/plotnine to make a graph to answer this question.\n",
    "\n",
    "6. Is there a difference in the relationship between height and weight for people born in each of the 12 months? Use ggplot/plotnine to make a graph to answer this question. (see code below on how to extract the month from the column `fifa[dob]`) \n",
    "\n",
    "7. Is there an averaged difference between players with different `body_type`s? Use ggplot/plotnine to make a graph to answer this question. Discuss what kind of plot would best communicate this information in your opinion.\n",
    "\n",
    "8. Calculate a new column `bmi` for the fifa dataset. The formula for BMI is below. Note: Body Mass Index (BMI) is not a universal metric of health, and should NOT be taken as such. Use ggplot/plotnine to plot a histogram of the different BMIs in the dataset. Add a dashed line using `+ geom_vline(xintercept = mean, linetype = \"dashed\", size = 3)` where mean is the mean BMI for the whole dataset.\n",
    "\n",
    "$$ BMI = \\frac{weight(kg)}{height(m)^2}$$\n",
    "\n",
    "9. What is the relationship between height and weight for each `body_type`? Use `facet_wrap()` to make a separate height/weight scatterplot for each body type.\n",
    "\n",
    "10. Is there an association between jersey number and age?  Use ggplot/plotnine to make a graph to answer this question.\n",
    "\n",
    "11. Let's use your CPSC230 skills, create a column in `fifa` called `name_len` that counts the number of characters in each player's `long_name` (spaces shouldn't count). Then use ggplot/plotnine to create a histogram of `name_len` and add `+theme_minimal()` to your graph. What is the typical range of name length?\n",
    " "
   ]
  },
  {
   "cell_type": "code",
   "execution_count": 57,
   "metadata": {},
   "outputs": [
    {
     "data": {
      "text/html": [
       "<div>\n",
       "<style scoped>\n",
       "    .dataframe tbody tr th:only-of-type {\n",
       "        vertical-align: middle;\n",
       "    }\n",
       "\n",
       "    .dataframe tbody tr th {\n",
       "        vertical-align: top;\n",
       "    }\n",
       "\n",
       "    .dataframe thead th {\n",
       "        text-align: right;\n",
       "    }\n",
       "</style>\n",
       "<table border=\"1\" class=\"dataframe\">\n",
       "  <thead>\n",
       "    <tr style=\"text-align: right;\">\n",
       "      <th></th>\n",
       "      <th>sofifa_id</th>\n",
       "      <th>player_url</th>\n",
       "      <th>short_name</th>\n",
       "      <th>long_name</th>\n",
       "      <th>age</th>\n",
       "      <th>dob</th>\n",
       "      <th>height_cm</th>\n",
       "      <th>weight_kg</th>\n",
       "      <th>nationality</th>\n",
       "      <th>club</th>\n",
       "      <th>...</th>\n",
       "      <th>lwb</th>\n",
       "      <th>ldm</th>\n",
       "      <th>cdm</th>\n",
       "      <th>rdm</th>\n",
       "      <th>rwb</th>\n",
       "      <th>lb</th>\n",
       "      <th>lcb</th>\n",
       "      <th>cb</th>\n",
       "      <th>rcb</th>\n",
       "      <th>rb</th>\n",
       "    </tr>\n",
       "  </thead>\n",
       "  <tbody>\n",
       "    <tr>\n",
       "      <th>0</th>\n",
       "      <td>158023</td>\n",
       "      <td>https://sofifa.com/player/158023/lionel-messi/...</td>\n",
       "      <td>L. Messi</td>\n",
       "      <td>Lionel Andrés Messi Cuccittini</td>\n",
       "      <td>27</td>\n",
       "      <td>1987-06-24</td>\n",
       "      <td>169</td>\n",
       "      <td>67</td>\n",
       "      <td>Argentina</td>\n",
       "      <td>FC Barcelona</td>\n",
       "      <td>...</td>\n",
       "      <td>62+3</td>\n",
       "      <td>62+3</td>\n",
       "      <td>62+3</td>\n",
       "      <td>62+3</td>\n",
       "      <td>62+3</td>\n",
       "      <td>54+3</td>\n",
       "      <td>45+3</td>\n",
       "      <td>45+3</td>\n",
       "      <td>45+3</td>\n",
       "      <td>54+3</td>\n",
       "    </tr>\n",
       "    <tr>\n",
       "      <th>1</th>\n",
       "      <td>20801</td>\n",
       "      <td>https://sofifa.com/player/20801/c-ronaldo-dos-...</td>\n",
       "      <td>Cristiano Ronaldo</td>\n",
       "      <td>Cristiano Ronaldo dos Santos Aveiro</td>\n",
       "      <td>29</td>\n",
       "      <td>1985-02-05</td>\n",
       "      <td>185</td>\n",
       "      <td>80</td>\n",
       "      <td>Portugal</td>\n",
       "      <td>Real Madrid</td>\n",
       "      <td>...</td>\n",
       "      <td>63+3</td>\n",
       "      <td>63+3</td>\n",
       "      <td>63+3</td>\n",
       "      <td>63+3</td>\n",
       "      <td>63+3</td>\n",
       "      <td>57+3</td>\n",
       "      <td>52+3</td>\n",
       "      <td>52+3</td>\n",
       "      <td>52+3</td>\n",
       "      <td>57+3</td>\n",
       "    </tr>\n",
       "    <tr>\n",
       "      <th>2</th>\n",
       "      <td>9014</td>\n",
       "      <td>https://sofifa.com/player/9014/arjen-robben/15...</td>\n",
       "      <td>A. Robben</td>\n",
       "      <td>Arjen Robben</td>\n",
       "      <td>30</td>\n",
       "      <td>1984-01-23</td>\n",
       "      <td>180</td>\n",
       "      <td>80</td>\n",
       "      <td>Netherlands</td>\n",
       "      <td>FC Bayern München</td>\n",
       "      <td>...</td>\n",
       "      <td>64+3</td>\n",
       "      <td>64+3</td>\n",
       "      <td>64+3</td>\n",
       "      <td>64+3</td>\n",
       "      <td>64+3</td>\n",
       "      <td>55+3</td>\n",
       "      <td>46+3</td>\n",
       "      <td>46+3</td>\n",
       "      <td>46+3</td>\n",
       "      <td>55+3</td>\n",
       "    </tr>\n",
       "    <tr>\n",
       "      <th>3</th>\n",
       "      <td>41236</td>\n",
       "      <td>https://sofifa.com/player/41236/zlatan-ibrahim...</td>\n",
       "      <td>Z. Ibrahimović</td>\n",
       "      <td>Zlatan Ibrahimović</td>\n",
       "      <td>32</td>\n",
       "      <td>1981-10-03</td>\n",
       "      <td>195</td>\n",
       "      <td>95</td>\n",
       "      <td>Sweden</td>\n",
       "      <td>Paris Saint-Germain</td>\n",
       "      <td>...</td>\n",
       "      <td>61+3</td>\n",
       "      <td>65+3</td>\n",
       "      <td>65+3</td>\n",
       "      <td>65+3</td>\n",
       "      <td>61+3</td>\n",
       "      <td>56+3</td>\n",
       "      <td>55+3</td>\n",
       "      <td>55+3</td>\n",
       "      <td>55+3</td>\n",
       "      <td>56+3</td>\n",
       "    </tr>\n",
       "    <tr>\n",
       "      <th>4</th>\n",
       "      <td>167495</td>\n",
       "      <td>https://sofifa.com/player/167495/manuel-neuer/...</td>\n",
       "      <td>M. Neuer</td>\n",
       "      <td>Manuel Neuer</td>\n",
       "      <td>28</td>\n",
       "      <td>1986-03-27</td>\n",
       "      <td>193</td>\n",
       "      <td>92</td>\n",
       "      <td>Germany</td>\n",
       "      <td>FC Bayern München</td>\n",
       "      <td>...</td>\n",
       "      <td>NaN</td>\n",
       "      <td>NaN</td>\n",
       "      <td>NaN</td>\n",
       "      <td>NaN</td>\n",
       "      <td>NaN</td>\n",
       "      <td>NaN</td>\n",
       "      <td>NaN</td>\n",
       "      <td>NaN</td>\n",
       "      <td>NaN</td>\n",
       "      <td>NaN</td>\n",
       "    </tr>\n",
       "  </tbody>\n",
       "</table>\n",
       "<p>5 rows × 104 columns</p>\n",
       "</div>"
      ],
      "text/plain": [
       "   sofifa_id                                         player_url  \\\n",
       "0     158023  https://sofifa.com/player/158023/lionel-messi/...   \n",
       "1      20801  https://sofifa.com/player/20801/c-ronaldo-dos-...   \n",
       "2       9014  https://sofifa.com/player/9014/arjen-robben/15...   \n",
       "3      41236  https://sofifa.com/player/41236/zlatan-ibrahim...   \n",
       "4     167495  https://sofifa.com/player/167495/manuel-neuer/...   \n",
       "\n",
       "          short_name                            long_name  age         dob  \\\n",
       "0           L. Messi       Lionel Andrés Messi Cuccittini   27  1987-06-24   \n",
       "1  Cristiano Ronaldo  Cristiano Ronaldo dos Santos Aveiro   29  1985-02-05   \n",
       "2          A. Robben                         Arjen Robben   30  1984-01-23   \n",
       "3     Z. Ibrahimović                   Zlatan Ibrahimović   32  1981-10-03   \n",
       "4           M. Neuer                         Manuel Neuer   28  1986-03-27   \n",
       "\n",
       "   height_cm  weight_kg  nationality                 club  ...   lwb   ldm  \\\n",
       "0        169         67    Argentina         FC Barcelona  ...  62+3  62+3   \n",
       "1        185         80     Portugal          Real Madrid  ...  63+3  63+3   \n",
       "2        180         80  Netherlands    FC Bayern München  ...  64+3  64+3   \n",
       "3        195         95       Sweden  Paris Saint-Germain  ...  61+3  65+3   \n",
       "4        193         92      Germany    FC Bayern München  ...   NaN   NaN   \n",
       "\n",
       "    cdm   rdm   rwb    lb   lcb    cb   rcb    rb  \n",
       "0  62+3  62+3  62+3  54+3  45+3  45+3  45+3  54+3  \n",
       "1  63+3  63+3  63+3  57+3  52+3  52+3  52+3  57+3  \n",
       "2  64+3  64+3  64+3  55+3  46+3  46+3  46+3  55+3  \n",
       "3  65+3  65+3  61+3  56+3  55+3  55+3  55+3  56+3  \n",
       "4   NaN   NaN   NaN   NaN   NaN   NaN   NaN   NaN  \n",
       "\n",
       "[5 rows x 104 columns]"
      ]
     },
     "execution_count": 57,
     "metadata": {},
     "output_type": "execute_result"
    }
   ],
   "source": [
    "#1 Load the necessary libraries (pandas, plotnine)\n",
    "import pandas as pd\n",
    "from plotnine import *\n",
    "\n",
    "#2 Load the following dataset \n",
    "fifa = pd.read_csv(\"https://raw.githubusercontent.com/cmparlettpelleriti/CPSC392ParlettPelleriti/master/Data/players_15.csv\")\n",
    "fifa.head()\n",
    "\n",
    "# get month of date of birth\n",
    "# fifa[\"monthBorn\"] = fifa[\"dob\"].str.extract(r'-([0-9][0-9])-')\n"
   ]
  },
  {
   "cell_type": "code",
   "execution_count": 58,
   "metadata": {},
   "outputs": [
    {
     "data": {
      "image/png": "[encoded data removed]",
      "text/plain": [
       "<Figure size 640x480 with 1 Axes>"
      ]
     },
     "metadata": {},
     "output_type": "display_data"
    },
    {
     "data": {
      "text/plain": [
       "<ggplot: (-2121512434)>"
      ]
     },
     "execution_count": 58,
     "metadata": {},
     "output_type": "execute_result"
    }
   ],
   "source": [
    "#3 How old is the average player in FIFA20? Use plotnine/ggplot to plot a histogram of their ages.\n",
    "(ggplot(fifa, aes(x = \"age\")) + geom_histogram() + geom_vline(xintercept = fifa['age'].mean(), color = \"red\"))"
   ]
  },
  {
   "cell_type": "code",
   "execution_count": 59,
   "metadata": {},
   "outputs": [
    {
     "data": {
      "image/png": "[encoded data removed]",
      "text/plain": [
       "<Figure size 640x480 with 1 Axes>"
      ]
     },
     "metadata": {},
     "output_type": "display_data"
    },
    {
     "data": {
      "text/plain": [
       "<ggplot: (-2121051625)>"
      ]
     },
     "execution_count": 59,
     "metadata": {},
     "output_type": "execute_result"
    }
   ],
   "source": [
    "#4 Do right footed players weigh more than right footed players? \n",
    "#  Use ggplot/plotnine to make a graph to answer this question.\n",
    "\n",
    "(ggplot(fifa, aes(x = 'preferred_foot', y = 'weight_kg')) + geom_boxplot())"
   ]
  },
  {
   "cell_type": "code",
   "execution_count": 62,
   "metadata": {},
   "outputs": [
    {
     "data": {
      "image/png": "[encoded data removed]",
      "text/plain": [
       "<Figure size 640x480 with 1 Axes>"
      ]
     },
     "metadata": {},
     "output_type": "display_data"
    },
    {
     "data": {
      "text/plain": [
       "<ggplot: (26527007)>"
      ]
     },
     "execution_count": 62,
     "metadata": {},
     "output_type": "execute_result"
    }
   ],
   "source": [
    "#5 Is there a difference in height between the clubs Chelsea and Manchester United? \n",
    "#  Use ggplot/plotnine to make a graph to answer this question.\n",
    "\n",
    "is_chel_man = (fifa['club'] == \"Chelsea\" ) | (fifa['club'] == \"Manchester United\")\n",
    "\n",
    "manchester_chelsea = fifa.loc[is_chel_man]\n",
    "\n",
    "(ggplot(manchester_chelsea, aes(x = 'club', y = 'height_cm')) + geom_boxplot())"
   ]
  },
  {
   "cell_type": "code",
   "execution_count": null,
   "metadata": {},
   "outputs": [],
   "source": [
    "#6 Is there a difference in the relationship between height and weight for people born in each of the 12 months? \n",
    "#  Use ggplot/plotnine to make a graph to answer this question. \n",
    "#  (see code below on how to extract the month from the column fifa[dob])"
   ]
  }
 ],
 "metadata": {
  "kernelspec": {
   "display_name": "Python 3",
   "language": "python",
   "name": "python3"
  },
  "language_info": {
   "codemirror_mode": {
    "name": "ipython",
    "version": 3
   },
   "file_extension": ".py",
   "mimetype": "text/x-python",
   "name": "python",
   "nbconvert_exporter": "python",
   "pygments_lexer": "ipython3",
   "version": "3.8.5"
  }
 },
 "nbformat": 4,
 "nbformat_minor": 4
}
